{
 "cells": [
  {
   "cell_type": "markdown",
   "metadata": {},
   "source": [
    "<img src=\"https://risk-engineering.org/static/img/logo-RE.png\" width=\"100\" alt=\"\" style=\"float:right;margin:15px;\">\n",
    "This notebook is an element of the [risk-engineering.org courseware](https://risk-engineering.org/). It can be distributed under the terms of the [Creative Commons Attribution-ShareAlike licence](https://creativecommons.org/licenses/by-sa/4.0/).\n",
    "\n",
    "---\n",
    "\n",
    "This notebook contains an introduction to the use of [NumPy](http://www.numpy.org/) for numerical integration using the Monte Carlo method."
   ]
  },
  {
   "cell_type": "markdown",
   "metadata": {},
   "source": [
    "# Monte Carlo methods for numerical integration"
   ]
  },
  {
   "cell_type": "markdown",
   "metadata": {},
   "source": [
    "This notebook contains an illustration of the use of Monte Carlo methods for numerical integration. The associated lecture slides on [risk-engineering.org](https://risk-engineering.org/monte-carlo-methods/) provide an introduction to the use of stochastic simulation methods.\n",
    "\n",
    "**Task**: resolve the integral \n",
    "\n",
    "$\\int_1^5 x^2 dx$"
   ]
  },
  {
   "cell_type": "markdown",
   "metadata": {},
   "source": [
    "## Analytical method"
   ]
  },
  {
   "cell_type": "markdown",
   "metadata": {},
   "source": [
    "We start by resolving this integral using the standard analytical method, assisted by the [SymPy symbolic mathematics library](http://sympy.org/). "
   ]
  },
  {
   "cell_type": "code",
   "execution_count": 1,
   "metadata": {
    "collapsed": false
   },
   "outputs": [
    {
     "data": {
      "text/latex": [
       "$$\\frac{124}{3}$$"
      ],
      "text/plain": [
       "124/3"
      ]
     },
     "execution_count": 1,
     "metadata": {},
     "output_type": "execute_result"
    }
   ],
   "source": [
    "import sympy\n",
    "from sympy.interactive import printing\n",
    "printing.init_printing(use_latex='mathjax')\n",
    "\n",
    "x = sympy.Symbol('x')\n",
    "integral = sympy.integrate(x**2)\n",
    "integral.subs(x, 5) - integral.subs(x, 1)"
   ]
  },
  {
   "cell_type": "code",
   "execution_count": 2,
   "metadata": {
    "collapsed": false
   },
   "outputs": [
    {
     "data": {
      "text/latex": [
       "$$41.333333333333336$$"
      ],
      "text/plain": [
       "41.333333333333336"
      ]
     },
     "execution_count": 2,
     "metadata": {},
     "output_type": "execute_result"
    }
   ],
   "source": [
    "float(integral.subs(x, 5) - integral.subs(x, 1))"
   ]
  },
  {
   "cell_type": "markdown",
   "metadata": {},
   "source": [
    "## Numerical method"
   ]
  },
  {
   "cell_type": "markdown",
   "metadata": {},
   "source": [
    "The expression we wish to integrate is very simple here, so calculating its integral analytically is easy (even without resorting to Python's symbolic mathematics package!). In many cases, however, analytical approaches to integration are not feasible:\n",
    "\n",
    "- the expression we wish to integrate is very complicated, possibly without a closed analytical integral\n",
    "- it is only known in \"black box\" form (for instance a software module): we can evaluate it at various points but don't know the   corresponding equation\n",
    "\n",
    "In such situations, stochastic simulation (\"Monte Carlo\") methods allow us to generate an approximation of the integral, simply by evaluating the expression a large number of times at randomly selected points in the input space and counting the proportion that are less than the integrand at that point. The larger the number of simulations we run, the better the approximation (and note that computers are very very fast today, so on simple problems the simulation will run in a blink of an eye!). "
   ]
  },
  {
   "cell_type": "code",
   "execution_count": 3,
   "metadata": {
    "collapsed": false
   },
   "outputs": [],
   "source": [
    "import numpy"
   ]
  },
  {
   "cell_type": "code",
   "execution_count": 4,
   "metadata": {
    "collapsed": false
   },
   "outputs": [
    {
     "data": {
      "text/latex": [
       "$$41.413$$"
      ],
      "text/plain": [
       "41.413"
      ]
     },
     "execution_count": 4,
     "metadata": {},
     "output_type": "execute_result"
    }
   ],
   "source": [
    "N = 100000\n",
    "count = 0\n",
    "for i in range(N):\n",
    "   x = numpy.random.uniform(1, 5)\n",
    "   y = numpy.random.uniform(0, 5**2)\n",
    "   if y < x**2:\n",
    "      count += 1\n",
    "area = 4 * 5**2\n",
    "area * count / float(N)"
   ]
  },
  {
   "cell_type": "markdown",
   "metadata": {},
   "source": [
    "**Exercise**: now undertake the same comparison of analytical and stochastic simulation methods to evaluate the integral\n",
    "\n",
    "$$\\int_1^3 e^{x^2}$$"
   ]
  },
  {
   "cell_type": "markdown",
   "metadata": {},
   "source": [
    "(Hint: the result should be approximately 1464.2)"
   ]
  },
  {
   "cell_type": "code",
   "execution_count": null,
   "metadata": {
    "collapsed": false
   },
   "outputs": [],
   "source": []
  }
 ],
 "metadata": {
  "anaconda-cloud": {},
  "kernelspec": {
   "display_name": "Python [default]",
   "language": "python",
   "name": "python3"
  },
  "language_info": {
   "codemirror_mode": {
    "name": "ipython",
    "version": 3
   },
   "file_extension": ".py",
   "mimetype": "text/x-python",
   "name": "python",
   "nbconvert_exporter": "python",
   "pygments_lexer": "ipython3",
   "version": "3.5.2"
  }
 },
 "nbformat": 4,
 "nbformat_minor": 0
}
